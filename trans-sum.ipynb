{
 "cells": [
  {
   "cell_type": "markdown",
   "metadata": {},
   "source": [
    "# Translation and Summarization\n",
    "\n",
    "- Install transformers \n",
    "- Install pytorch\n",
    "  "
   ]
  },
  {
   "cell_type": "markdown",
   "metadata": {},
   "source": [
    "### Make sure you are using the right python environment"
   ]
  },
  {
   "cell_type": "code",
   "execution_count": null,
   "metadata": {},
   "outputs": [
    {
     "name": "stdout",
     "output_type": "stream",
     "text": [
      "d:\\GitHub\\hf-trans-sum\\.venv\\Scripts\\python.exe\n",
      "C:\\Users\\Mentash\\AppData\\Local\\Programs\\Python\\Python312\\python.exe\n",
      "C:\\Users\\Mentash\\AppData\\Local\\Microsoft\\WindowsApps\\python.exe\n",
      "d:\\GitHub\\hf-trans-sum\\.venv\\Scripts\\python.exe\n"
     ]
    },
    {
     "name": "stderr",
     "output_type": "stream",
     "text": [
      "INFO: Could not find \"#\".\n",
      "INFO: Could not find \"For\".\n",
      "INFO: Could not find \"Windows\".\n"
     ]
    }
   ],
   "source": [
    "!where python  # For Windows\n",
    "!which python  # For Linux/MacOS\n",
    "\n",
    "# Alternatively, using python to get the path of the Pythono executable\n",
    "import sys\n",
    "print(sys.executable)"
   ]
  },
  {
   "cell_type": "code",
   "execution_count": null,
   "metadata": {},
   "outputs": [],
   "source": [
    "%pip install transformers\n",
    "%pip install torch"
   ]
  },
  {
   "cell_type": "markdown",
   "metadata": {},
   "source": [
    "### Logging Configuration for Transformers\n",
    "\n",
    "The following code configures the logging behavior of the `transformers` library to only display error messages. This helps reduce unnecessary output in the console or notebook.\n",
    "\n",
    "This code block configures the logging behavior of the `transformers` library:\n",
    "\n",
    "1. **`from transformers.utils import logging`**:\n",
    "   - Imports the logging utility from the `transformers` library.\n",
    "\n",
    "2. **`logging.set_verbosity_error()`**:\n",
    "   - Sets the logging verbosity level to `ERROR`. This means only error messages will be logged, suppressing less critical messages like warnings, info, or debug logs.\n",
    "\n",
    "### Purpose:\n",
    "This code is used to reduce the amount of logging output from the `transformers` library, making the output cleaner by only showing error messages. It is useful when you want to avoid clutter in your console or notebook."
   ]
  },
  {
   "cell_type": "code",
   "execution_count": 15,
   "metadata": {},
   "outputs": [],
   "source": [
    "# Import the logging utility from the transformers library\n",
    "from transformers.utils import logging\n",
    "\n",
    "# Set the logging verbosity to only display error messages\n",
    "logging.set_verbosity_error()"
   ]
  },
  {
   "cell_type": "markdown",
   "metadata": {},
   "source": [
    "### Build the `translation` pipeline using 🤗 Transformers Library"
   ]
  },
  {
   "cell_type": "code",
   "execution_count": 17,
   "metadata": {},
   "outputs": [],
   "source": [
    "from transformers import pipeline \n",
    "import torch\n",
    "\n",
    "# Load model directly\n",
    "from transformers import AutoTokenizer, AutoModelForSeq2SeqLM\n",
    "\n",
    "tokenizer = AutoTokenizer.from_pretrained(\"facebook/nllb-200-distilled-600M\")\n",
    "model = AutoModelForSeq2SeqLM.from_pretrained(\"facebook/nllb-200-distilled-600M\")"
   ]
  },
  {
   "cell_type": "code",
   "execution_count": 19,
   "metadata": {},
   "outputs": [],
   "source": [
    "translator = pipeline(task=\"translation\",\n",
    "                      # Use facebook's no-language-left-behind model\n",
    "                      model=\"facebook/nllb-200-distilled-600M\", # Use the model directly from Hugging Face Hub\n",
    "                      # Compress the model to save memory\n",
    "                      torch_dtype=torch.float16)"
   ]
  },
  {
   "cell_type": "code",
   "execution_count": 20,
   "metadata": {},
   "outputs": [],
   "source": [
    "text = \"\"\"\\\n",
    "My puppy is adorable, \\\n",
    "Your kitten is cute.\n",
    "Her panda is friendly.\n",
    "His llama is thoughtful. \\\n",
    "We all have nice pets!\"\"\""
   ]
  },
  {
   "cell_type": "code",
   "execution_count": 21,
   "metadata": {},
   "outputs": [],
   "source": [
    "text_translated = translator(text,\n",
    "                             src_lang=\"eng_Latn\",\n",
    "                             tgt_lang=\"arz_Arab\")"
   ]
  },
  {
   "cell_type": "code",
   "execution_count": 22,
   "metadata": {},
   "outputs": [
    {
     "data": {
      "text/plain": [
       "[{'translation_text': 'جروتي حلوة، قطتك حلوة، غانداها ودودية، لاماها متفكرة، كلنا عندنا حيوانات أليفة.'}]"
      ]
     },
     "execution_count": 22,
     "metadata": {},
     "output_type": "execute_result"
    }
   ],
   "source": [
    "text_translated"
   ]
  }
 ],
 "metadata": {
  "kernelspec": {
   "display_name": ".venv (3.12.5)",
   "language": "python",
   "name": "python3"
  },
  "language_info": {
   "codemirror_mode": {
    "name": "ipython",
    "version": 3
   },
   "file_extension": ".py",
   "mimetype": "text/x-python",
   "name": "python",
   "nbconvert_exporter": "python",
   "pygments_lexer": "ipython3",
   "version": "3.12.5"
  }
 },
 "nbformat": 4,
 "nbformat_minor": 2
}
